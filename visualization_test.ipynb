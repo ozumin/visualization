{
 "cells": [
  {
   "cell_type": "code",
   "execution_count": 14,
   "metadata": {},
   "outputs": [],
   "source": [
    "import networkx as nx\n",
    "import pandas as pd\n",
    "import numpy as np\n",
    "from bokeh.io import show, output_file\n",
    "from bokeh.plotting import ColumnDataSource #, output_notebook\n",
    "from bokeh.models import Plot, Range1d, MultiLine, Circle, HoverTool, TapTool, BoxSelectTool, LabelSet\n",
    "from bokeh.models.graphs import from_networkx, NodesAndLinkedEdges, EdgesAndLinkedNodes\n",
    "from bokeh.models.markers import Circle\n",
    "from bokeh.palettes import Spectral4"
   ]
  },
  {
   "cell_type": "code",
   "execution_count": 15,
   "metadata": {},
   "outputs": [],
   "source": [
    "#creating images list\n",
    "imgs = []\n",
    "index = []\n",
    "for i in range(34):\n",
    "    imgs.extend(['./images/' + str(i) + '.png'])\n",
    "    index.append(i)"
   ]
  },
  {
   "cell_type": "code",
   "execution_count": 16,
   "metadata": {
    "scrolled": false
   },
   "outputs": [
    {
     "data": {
      "text/html": [
       "\n",
       "<div class=\"bk-root\">\n",
       "    <div class=\"bk-plotdiv\" id=\"5ee17106-9c82-46c4-a81f-74a5d430dce9\"></div>\n",
       "</div>"
      ]
     },
     "metadata": {},
     "output_type": "display_data"
    },
    {
     "data": {
      "application/javascript": [
       "(function(root) {\n",
       "  function embed_document(root) {\n",
       "    \n",
       "  var docs_json = {\"4e0f006b-4fa8-4cff-9fc7-6cfb038cf5e9\":{\"roots\":{\"references\":[{\"attributes\":{\"line_color\":{\"value\":\"#fdae61\"},\"line_width\":{\"value\":5}},\"id\":\"feea9cef-6123-481b-b044-73fdc0239771\",\"type\":\"MultiLine\"},{\"attributes\":{\"fill_color\":{\"value\":\"#abdda4\"},\"size\":{\"units\":\"screen\",\"value\":15}},\"id\":\"ec2d1306-3257-4d84-bd13-613ea7a2ddfb\",\"type\":\"Circle\"},{\"attributes\":{\"callback\":null,\"end\":1.1,\"start\":-1.1},\"id\":\"2c42c5bf-b221-4e45-8abb-f06b1014ac00\",\"type\":\"Range1d\"},{\"attributes\":{},\"id\":\"497f73c4-1ba5-4baf-867d-3fa05c9c4af1\",\"type\":\"LinearScale\"},{\"attributes\":{\"source\":{\"id\":\"23a9991c-5010-43a4-b445-5c370d1b3ed4\",\"type\":\"ColumnDataSource\"}},\"id\":\"98e2738e-54e1-4b52-9988-5bcc50c309d9\",\"type\":\"CDSView\"},{\"attributes\":{\"line_alpha\":{\"value\":0.8},\"line_color\":{\"value\":\"#CCCCCC\"},\"line_width\":{\"value\":5}},\"id\":\"37a068ce-f654-4344-aa3d-451ded512075\",\"type\":\"MultiLine\"},{\"attributes\":{\"bottom_units\":\"screen\",\"fill_alpha\":{\"value\":0.5},\"fill_color\":{\"value\":\"lightgrey\"},\"left_units\":\"screen\",\"level\":\"overlay\",\"line_alpha\":{\"value\":1.0},\"line_color\":{\"value\":\"black\"},\"line_dash\":[4,4],\"line_width\":{\"value\":2},\"plot\":null,\"render_mode\":\"css\",\"right_units\":\"screen\",\"top_units\":\"screen\"},\"id\":\"83852216-ee77-4ab3-bfc9-bf173ed70509\",\"type\":\"BoxAnnotation\"},{\"attributes\":{},\"id\":\"99813dd8-d69d-427b-9606-521c25ce9a33\",\"type\":\"UnionRenderers\"},{\"attributes\":{},\"id\":\"ea0ee97c-24a6-41d6-808c-bb6b371f981c\",\"type\":\"Selection\"},{\"attributes\":{\"callback\":null,\"data\":{\"end\":[1,2,3,4,5,6,7,8,10,11,12,13,17,19,21,31,2,3,7,13,17,19,21,30,3,7,8,9,13,27,28,32,7,12,13,6,10,6,10,16,16,30,32,33,33,33,32,33,32,33,32,33,33,32,33,32,33,25,27,29,32,33,25,27,31,31,29,33,33,31,33,32,33,32,33,32,33,33],\"start\":[0,0,0,0,0,0,0,0,0,0,0,0,0,0,0,0,1,1,1,1,1,1,1,1,2,2,2,2,2,2,2,2,3,3,3,4,4,5,5,5,6,8,8,8,9,13,14,14,15,15,18,18,19,20,20,22,22,23,23,23,23,23,24,24,24,25,26,26,27,28,28,29,29,30,30,31,31,32]},\"selected\":{\"id\":\"ea0ee97c-24a6-41d6-808c-bb6b371f981c\",\"type\":\"Selection\"},\"selection_policy\":{\"id\":\"b20f1cf2-3e02-45b8-a0c6-7700d48ae5fb\",\"type\":\"UnionRenderers\"}},\"id\":\"23a9991c-5010-43a4-b445-5c370d1b3ed4\",\"type\":\"ColumnDataSource\"},{\"attributes\":{\"callback\":null},\"id\":\"0e1082b8-2fa3-44b5-bed5-5c1bf0cb523f\",\"type\":\"TapTool\"},{\"attributes\":{\"callback\":null,\"data\":{\"index\":[0,1,2,3,4,5,6,7,8,9,10,11,12,13,14,15,16,17,18,19,20,21,22,23,24,25,26,27,28,29,30,31,32,33]},\"selected\":{\"id\":\"a40b3561-40c2-467c-8d15-12a7530fa245\",\"type\":\"Selection\"},\"selection_policy\":{\"id\":\"99813dd8-d69d-427b-9606-521c25ce9a33\",\"type\":\"UnionRenderers\"}},\"id\":\"9b3e9580-72de-4eb4-b051-840c3787265c\",\"type\":\"ColumnDataSource\"},{\"attributes\":{\"source\":{\"id\":\"262384da-6f53-41a4-aacb-b39bafae9a1b\",\"type\":\"ColumnDataSource\"}},\"id\":\"57bcd5c9-f29e-460a-8728-6c794cd15b78\",\"type\":\"CDSView\"},{\"attributes\":{},\"id\":\"5f48493a-18a6-4481-b725-68040c22671b\",\"type\":\"NodesAndLinkedEdges\"},{\"attributes\":{},\"id\":\"53699252-971e-4502-8b03-8b475256984f\",\"type\":\"Selection\"},{\"attributes\":{\"data_source\":{\"id\":\"23a9991c-5010-43a4-b445-5c370d1b3ed4\",\"type\":\"ColumnDataSource\"},\"glyph\":{\"id\":\"37a068ce-f654-4344-aa3d-451ded512075\",\"type\":\"MultiLine\"},\"hover_glyph\":{\"id\":\"b48df936-f9a8-41bf-ad0e-41711b774b7c\",\"type\":\"MultiLine\"},\"muted_glyph\":null,\"selection_glyph\":{\"id\":\"feea9cef-6123-481b-b044-73fdc0239771\",\"type\":\"MultiLine\"},\"view\":{\"id\":\"98e2738e-54e1-4b52-9988-5bcc50c309d9\",\"type\":\"CDSView\"}},\"id\":\"28520c3f-6db1-4cc0-aec2-b7597b68cc97\",\"type\":\"GlyphRenderer\"},{\"attributes\":{\"data_source\":{\"id\":\"9b3e9580-72de-4eb4-b051-840c3787265c\",\"type\":\"ColumnDataSource\"},\"glyph\":{\"id\":\"6a5d4e99-47bd-4022-86aa-c22f48caeb59\",\"type\":\"Circle\"},\"hover_glyph\":{\"id\":\"ec2d1306-3257-4d84-bd13-613ea7a2ddfb\",\"type\":\"Circle\"},\"muted_glyph\":null,\"selection_glyph\":{\"id\":\"313ec8f6-979d-4f09-aeb5-d736b306a281\",\"type\":\"Circle\"},\"view\":{\"id\":\"188d7095-4f79-474a-a55f-bc74a88c05a7\",\"type\":\"CDSView\"}},\"id\":\"ca880fd2-7bd2-44c7-a9b1-c4540679eb81\",\"type\":\"GlyphRenderer\"},{\"attributes\":{},\"id\":\"fa909d00-9607-4dee-a4cb-6d2d01419328\",\"type\":\"LinearScale\"},{\"attributes\":{\"edge_renderer\":{\"id\":\"28520c3f-6db1-4cc0-aec2-b7597b68cc97\",\"type\":\"GlyphRenderer\"},\"inspection_policy\":{\"id\":\"22786e02-827a-46fa-955c-3249b8af3293\",\"type\":\"EdgesAndLinkedNodes\"},\"layout_provider\":{\"id\":\"8ee74687-bba1-46c9-ad9a-66b9a5ab2472\",\"type\":\"StaticLayoutProvider\"},\"node_renderer\":{\"id\":\"ca880fd2-7bd2-44c7-a9b1-c4540679eb81\",\"type\":\"GlyphRenderer\"},\"selection_policy\":{\"id\":\"5f48493a-18a6-4481-b725-68040c22671b\",\"type\":\"NodesAndLinkedEdges\"}},\"id\":\"6cb55a71-e361-46eb-a001-6422438884bf\",\"type\":\"GraphRenderer\"},{\"attributes\":{},\"id\":\"b20f1cf2-3e02-45b8-a0c6-7700d48ae5fb\",\"type\":\"UnionRenderers\"},{\"attributes\":{\"fill_color\":{\"value\":\"white\"},\"line_color\":{\"value\":\"white\"},\"name\":\"node\",\"size\":{\"units\":\"screen\",\"value\":20},\"x\":{\"field\":\"xi\"},\"y\":{\"field\":\"yi\"}},\"id\":\"f04be21b-7e0d-45a5-a940-328e2ac32c7d\",\"type\":\"Circle\"},{\"attributes\":{\"callback\":null,\"data\":{\"imgs\":[\"./images/0.png\",\"./images/1.png\",\"./images/2.png\",\"./images/3.png\",\"./images/4.png\",\"./images/5.png\",\"./images/6.png\",\"./images/7.png\",\"./images/8.png\",\"./images/9.png\",\"./images/10.png\",\"./images/11.png\",\"./images/12.png\",\"./images/13.png\",\"./images/14.png\",\"./images/15.png\",\"./images/16.png\",\"./images/17.png\",\"./images/18.png\",\"./images/19.png\",\"./images/20.png\",\"./images/21.png\",\"./images/22.png\",\"./images/23.png\",\"./images/24.png\",\"./images/25.png\",\"./images/26.png\",\"./images/27.png\",\"./images/28.png\",\"./images/29.png\",\"./images/30.png\",\"./images/31.png\",\"./images/32.png\",\"./images/33.png\"],\"index\":[0,1,2,3,4,5,6,7,8,9,10,11,12,13,14,15,16,17,18,19,20,21,22,23,24,25,26,27,28,29,30,31,32,33],\"xi\":[1.0,0.9829730987698075,0.932472229063097,0.8502171040894204,0.7390089037321868,0.6026346686985259,0.4457383458704297,0.27366298500784797,0.09226837088757722,-0.09226833188159647,-0.2736629534524478,-0.4457383143150295,-0.6026346669454482,-0.7390088423744644,-0.8502171619409874,-0.9324721677053746,-0.9829730970167299,-0.9999999982469223,-0.9829730970167299,-0.9324722273100193,-0.8502171619409874,-0.7390089019791091,-0.6026347265500929,-0.44573837391967425,-0.27366289384780307,-0.0922681605182429,0.09226818462306245,0.27366292540320325,0.44573837567275204,0.6026347283031706,0.7390087845228973,0.8502170444847756,0.932472229063097,0.9829730987698075],\"yi\":[5.200874811222461e-09,0.18374951687777052,0.36124167334698576,0.5264321613022418,0.6736956284850187,0.7980172083092125,0.8951633020694276,0.9618256731695953,0.9957341595061452,0.9957341595061452,0.9618256731695953,0.8951633020694276,0.7980172083092125,0.6736956880896635,0.5264321613022418,0.3612417925562752,0.1837495317789317,-8.222190168562394e-08,-0.18374946177253734,-0.36124172254988085,-0.5264320912958473,-0.6736956776879138,-0.7980171383028182,-0.895163291667678,-0.9618256627678456,-0.9957342087090403,-0.9957342087090403,-0.9618256627678456,-0.895163291667678,-0.7980171383028182,-0.6736957968972033,-0.5264322701097816,-0.36124169274755846,-0.18374944687137618]},\"selected\":{\"id\":\"53699252-971e-4502-8b03-8b475256984f\",\"type\":\"Selection\"},\"selection_policy\":{\"id\":\"dc159587-3755-42b7-ae8f-5313f89c4b77\",\"type\":\"UnionRenderers\"}},\"id\":\"262384da-6f53-41a4-aacb-b39bafae9a1b\",\"type\":\"ColumnDataSource\"},{\"attributes\":{\"callback\":null,\"end\":1.1,\"start\":-1.1},\"id\":\"77cc919a-52c3-41b2-87b9-7cc3d8a0f7d8\",\"type\":\"Range1d\"},{\"attributes\":{},\"id\":\"dc159587-3755-42b7-ae8f-5313f89c4b77\",\"type\":\"UnionRenderers\"},{\"attributes\":{\"fill_color\":{\"value\":\"#2b83ba\"},\"size\":{\"units\":\"screen\",\"value\":15}},\"id\":\"6a5d4e99-47bd-4022-86aa-c22f48caeb59\",\"type\":\"Circle\"},{\"attributes\":{\"fill_color\":{\"value\":\"#fdae61\"},\"size\":{\"units\":\"screen\",\"value\":15}},\"id\":\"313ec8f6-979d-4f09-aeb5-d736b306a281\",\"type\":\"Circle\"},{\"attributes\":{\"plot\":null,\"text\":\"Graph Interaction Demonstration\"},\"id\":\"a20dd768-f422-414c-bd39-21bd426eceea\",\"type\":\"Title\"},{\"attributes\":{\"callback\":null,\"overlay\":{\"id\":\"83852216-ee77-4ab3-bfc9-bf173ed70509\",\"type\":\"BoxAnnotation\"}},\"id\":\"72e72b7b-65e3-4f49-8fdf-c09ec46110e0\",\"type\":\"BoxSelectTool\"},{\"attributes\":{\"plot_height\":700,\"plot_width\":700,\"renderers\":[{\"id\":\"63eedbcb-5da9-410d-a5b9-c43da7c01c7e\",\"type\":\"GlyphRenderer\"},{\"id\":\"6cb55a71-e361-46eb-a001-6422438884bf\",\"type\":\"GraphRenderer\"},{\"id\":\"83852216-ee77-4ab3-bfc9-bf173ed70509\",\"type\":\"BoxAnnotation\"}],\"title\":{\"id\":\"a20dd768-f422-414c-bd39-21bd426eceea\",\"type\":\"Title\"},\"toolbar\":{\"id\":\"7440fe97-088e-434c-ac8b-2b74b1bc2b72\",\"type\":\"Toolbar\"},\"x_range\":{\"id\":\"2c42c5bf-b221-4e45-8abb-f06b1014ac00\",\"type\":\"Range1d\"},\"x_scale\":{\"id\":\"fa909d00-9607-4dee-a4cb-6d2d01419328\",\"type\":\"LinearScale\"},\"y_range\":{\"id\":\"77cc919a-52c3-41b2-87b9-7cc3d8a0f7d8\",\"type\":\"Range1d\"},\"y_scale\":{\"id\":\"497f73c4-1ba5-4baf-867d-3fa05c9c4af1\",\"type\":\"LinearScale\"}},\"id\":\"f46b5459-5707-48c7-a99e-ab64fcbee0b6\",\"type\":\"Plot\"},{\"attributes\":{\"callback\":null,\"renderers\":[{\"id\":\"6cb55a71-e361-46eb-a001-6422438884bf\",\"type\":\"GraphRenderer\"}],\"tooltips\":null},\"id\":\"6db54709-aeb6-4ae1-89b0-20db3b5b2a25\",\"type\":\"HoverTool\"},{\"attributes\":{},\"id\":\"22786e02-827a-46fa-955c-3249b8af3293\",\"type\":\"EdgesAndLinkedNodes\"},{\"attributes\":{},\"id\":\"a40b3561-40c2-467c-8d15-12a7530fa245\",\"type\":\"Selection\"},{\"attributes\":{\"source\":{\"id\":\"9b3e9580-72de-4eb4-b051-840c3787265c\",\"type\":\"ColumnDataSource\"}},\"id\":\"188d7095-4f79-474a-a55f-bc74a88c05a7\",\"type\":\"CDSView\"},{\"attributes\":{\"graph_layout\":{\"0\":[1.0,5.200874811222461e-09],\"1\":[0.9829730987698075,0.18374951687777052],\"10\":[-0.2736629534524478,0.9618256731695953],\"11\":[-0.4457383143150295,0.8951633020694276],\"12\":[-0.6026346669454482,0.7980172083092125],\"13\":[-0.7390088423744644,0.6736956880896635],\"14\":[-0.8502171619409874,0.5264321613022418],\"15\":[-0.9324721677053746,0.3612417925562752],\"16\":[-0.9829730970167299,0.1837495317789317],\"17\":[-0.9999999982469223,-8.222190168562394e-08],\"18\":[-0.9829730970167299,-0.18374946177253734],\"19\":[-0.9324722273100193,-0.36124172254988085],\"2\":[0.932472229063097,0.36124167334698576],\"20\":[-0.8502171619409874,-0.5264320912958473],\"21\":[-0.7390089019791091,-0.6736956776879138],\"22\":[-0.6026347265500929,-0.7980171383028182],\"23\":[-0.44573837391967425,-0.895163291667678],\"24\":[-0.27366289384780307,-0.9618256627678456],\"25\":[-0.0922681605182429,-0.9957342087090403],\"26\":[0.09226818462306245,-0.9957342087090403],\"27\":[0.27366292540320325,-0.9618256627678456],\"28\":[0.44573837567275204,-0.895163291667678],\"29\":[0.6026347283031706,-0.7980171383028182],\"3\":[0.8502171040894204,0.5264321613022418],\"30\":[0.7390087845228973,-0.6736957968972033],\"31\":[0.8502170444847756,-0.5264322701097816],\"32\":[0.932472229063097,-0.36124169274755846],\"33\":[0.9829730987698075,-0.18374944687137618],\"4\":[0.7390089037321868,0.6736956284850187],\"5\":[0.6026346686985259,0.7980172083092125],\"6\":[0.4457383458704297,0.8951633020694276],\"7\":[0.27366298500784797,0.9618256731695953],\"8\":[0.09226837088757722,0.9957341595061452],\"9\":[-0.09226833188159647,0.9957341595061452]}},\"id\":\"8ee74687-bba1-46c9-ad9a-66b9a5ab2472\",\"type\":\"StaticLayoutProvider\"},{\"attributes\":{\"line_color\":{\"value\":\"#abdda4\"},\"line_width\":{\"value\":5}},\"id\":\"b48df936-f9a8-41bf-ad0e-41711b774b7c\",\"type\":\"MultiLine\"},{\"attributes\":{\"callback\":null,\"names\":[\"node\"],\"renderers\":\"auto\",\"tooltips\":\"\\n    <div>\\n        <img\\n            src=\\\"@imgs\\\"\\n        ></img>\\n    </div>\\n    <div>\\n        <span>@index{safe}</span>\\n    </div>\\n    \"},\"id\":\"100f89c2-473d-4061-8693-628f0bebebd3\",\"type\":\"HoverTool\"},{\"attributes\":{\"active_drag\":\"auto\",\"active_inspect\":\"auto\",\"active_scroll\":\"auto\",\"active_tap\":\"auto\",\"tools\":[{\"id\":\"100f89c2-473d-4061-8693-628f0bebebd3\",\"type\":\"HoverTool\"},{\"id\":\"6db54709-aeb6-4ae1-89b0-20db3b5b2a25\",\"type\":\"HoverTool\"},{\"id\":\"0e1082b8-2fa3-44b5-bed5-5c1bf0cb523f\",\"type\":\"TapTool\"},{\"id\":\"72e72b7b-65e3-4f49-8fdf-c09ec46110e0\",\"type\":\"BoxSelectTool\"}]},\"id\":\"7440fe97-088e-434c-ac8b-2b74b1bc2b72\",\"type\":\"Toolbar\"},{\"attributes\":{\"data_source\":{\"id\":\"262384da-6f53-41a4-aacb-b39bafae9a1b\",\"type\":\"ColumnDataSource\"},\"glyph\":{\"id\":\"f04be21b-7e0d-45a5-a940-328e2ac32c7d\",\"type\":\"Circle\"},\"hover_glyph\":null,\"muted_glyph\":null,\"name\":\"node\",\"view\":{\"id\":\"57bcd5c9-f29e-460a-8728-6c794cd15b78\",\"type\":\"CDSView\"}},\"id\":\"63eedbcb-5da9-410d-a5b9-c43da7c01c7e\",\"type\":\"GlyphRenderer\"}],\"root_ids\":[\"f46b5459-5707-48c7-a99e-ab64fcbee0b6\"]},\"title\":\"Bokeh Application\",\"version\":\"0.12.16\"}};\n",
       "  var render_items = [{\"docid\":\"4e0f006b-4fa8-4cff-9fc7-6cfb038cf5e9\",\"elementid\":\"5ee17106-9c82-46c4-a81f-74a5d430dce9\",\"modelid\":\"f46b5459-5707-48c7-a99e-ab64fcbee0b6\"}];\n",
       "  root.Bokeh.embed.embed_items_notebook(docs_json, render_items);\n",
       "\n",
       "  }\n",
       "  if (root.Bokeh !== undefined) {\n",
       "    embed_document(root);\n",
       "  } else {\n",
       "    var attempts = 0;\n",
       "    var timer = setInterval(function(root) {\n",
       "      if (root.Bokeh !== undefined) {\n",
       "        embed_document(root);\n",
       "        clearInterval(timer);\n",
       "      }\n",
       "      attempts++;\n",
       "      if (attempts > 100) {\n",
       "        console.log(\"Bokeh: ERROR: Unable to run BokehJS code because BokehJS library is missing\")\n",
       "        clearInterval(timer);\n",
       "      }\n",
       "    }, 10, root)\n",
       "  }\n",
       "})(window);"
      ],
      "application/vnd.bokehjs_exec.v0+json": ""
     },
     "metadata": {
      "application/vnd.bokehjs_exec.v0+json": {
       "id": "f46b5459-5707-48c7-a99e-ab64fcbee0b6"
      }
     },
     "output_type": "display_data"
    }
   ],
   "source": [
    "G=nx.karate_club_graph()\n",
    "\n",
    "plot = Plot(plot_width=700, plot_height=700,\n",
    "            x_range=Range1d(-1.1,1.1), y_range=Range1d(-1.1,1.1))\n",
    "plot.title.text = \"Graph Interaction Demonstration\"\n",
    "\n",
    "#creating graph\n",
    "graph_renderer = from_networkx(G, nx.circular_layout, scale=1, center=(0,0))\n",
    "\n",
    "graph_renderer.node_renderer.glyph = Circle(size=15, fill_color=Spectral4[0])\n",
    "graph_renderer.node_renderer.selection_glyph = Circle(size=15, fill_color=Spectral4[2])\n",
    "graph_renderer.node_renderer.hover_glyph = Circle(size=15, fill_color=Spectral4[1])\n",
    "\n",
    "graph_renderer.edge_renderer.glyph = MultiLine(line_color=\"#CCCCCC\", line_alpha=0.8, line_width=5)\n",
    "graph_renderer.edge_renderer.selection_glyph = MultiLine(line_color=Spectral4[2], line_width=5)\n",
    "graph_renderer.edge_renderer.hover_glyph = MultiLine(line_color=Spectral4[1], line_width=5)\n",
    "\n",
    "graph_renderer.selection_policy = NodesAndLinkedEdges()\n",
    "graph_renderer.inspection_policy = EdgesAndLinkedNodes()\n",
    "\n",
    "#creating plots for showing images\n",
    "x, y = zip(*graph_renderer.layout_provider.graph_layout.values())\n",
    "\n",
    "source = ColumnDataSource(data=dict(\n",
    "    xi=x, yi=y, imgs=imgs, index=index\n",
    "))\n",
    "\n",
    "glyph = Circle(x='xi', y='yi', size=20, line_color=\"white\", fill_color=\"white\", name=\"node\")\n",
    "\n",
    "#putting graph and glyph together\n",
    "plot.add_glyph(source, glyph, name=\"node\")\n",
    "plot.renderers.append(graph_renderer)\n",
    "\n",
    "#Hover tool for images\n",
    "hover_node = HoverTool(tooltips=\"\"\"\n",
    "    <div>\n",
    "        <img\n",
    "            src=\"@imgs\"\n",
    "        ></img>\n",
    "    </div>\n",
    "    <div>\n",
    "        <span>@index{safe}</span>\n",
    "    </div>\n",
    "    \"\"\"\n",
    ", names=[\"node\"])\n",
    "\n",
    "#Hover tool for graph\n",
    "hover_graph = HoverTool(tooltips=None, renderers=[graph_renderer])\n",
    "\n",
    "plot.add_tools(hover_node, hover_graph, TapTool(), BoxSelectTool())\n",
    "\n",
    "#output_notebook()\n",
    "output_file('graph.html')\n",
    "show(plot)"
   ]
  },
  {
   "cell_type": "code",
   "execution_count": null,
   "metadata": {},
   "outputs": [],
   "source": []
  }
 ],
 "metadata": {
  "kernelspec": {
   "display_name": "Python 3",
   "language": "python",
   "name": "python3"
  },
  "language_info": {
   "codemirror_mode": {
    "name": "ipython",
    "version": 3
   },
   "file_extension": ".py",
   "mimetype": "text/x-python",
   "name": "python",
   "nbconvert_exporter": "python",
   "pygments_lexer": "ipython3",
   "version": "3.6.5"
  }
 },
 "nbformat": 4,
 "nbformat_minor": 2
}
